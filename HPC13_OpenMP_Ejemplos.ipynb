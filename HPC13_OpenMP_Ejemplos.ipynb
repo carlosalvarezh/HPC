{
 "cells": [
  {
   "cell_type": "markdown",
   "metadata": {},
   "source": [
    "<h1 align=\"center\">Computación de Alto Desempeño</h1>\n",
    "<h1 align=\"center\">OpenMP - Ejemplos</h1>\n",
    "<h1 align=\"center\">2024</h1>\n",
    "<h1 align=\"center\">MEDELLÍN - COLOMBIA </h1>"
   ]
  },
  {
   "cell_type": "markdown",
   "metadata": {},
   "source": [
    "***\n",
    "|[![Outlook](https://img.shields.io/badge/Microsoft_Outlook-0078D4?style=plastic&logo=microsoft-outlook&logoColor=white)](mailto:calvarezh@udemedellin.edu.co)||[![Open In Colab](https://colab.research.google.com/assets/colab-badge.svg)](https://colab.research.google.com/github/carlosalvarezh/HPC/blob/main/HPC_13_OpenMP_Ejemplos.ipynb)\n",
    "|-:|:-|--:|\n",
    "|[![LinkedIn](https://img.shields.io/badge/linkedin-%230077B5.svg?style=plastic&logo=linkedin&logoColor=white)](https://www.linkedin.com/in/carlosalvarez5/)|[![@alvarezhenao](https://img.shields.io/twitter/url/https/twitter.com/alvarezhenao.svg?style=social&label=Follow%20%40alvarezhenao)](https://twitter.com/alvarezhenao)|[![@carlosalvarezh](https://img.shields.io/badge/github-%23121011.svg?style=plastic&logo=github&logoColor=white)](https://github.com/carlosalvarezh)|\n",
    "\n",
    "<table>\n",
    " <tr align=left><td><img align=left src=\"https://github.com/carlosalvarezh/Curso_CEC_EAFIT/blob/main/images/CCLogoColorPop1.gif?raw=true\" width=\"25\">\n",
    " <td>Text provided under a Creative Commons Attribution license, CC-BY. All code is made available under the FSF-approved MIT license.(c) Carlos Alberto Alvarez Henao</td>\n",
    "</table>\n",
    "\n",
    "***"
   ]
  },
  {
   "cell_type": "markdown",
   "metadata": {},
   "source": [
    "# **Cálculo de Integrales por el Método de Simpson 1/3 en Paralelo usando OpenMP**"
   ]
  },
  {
   "cell_type": "markdown",
   "metadata": {},
   "source": [
    "Este ejemplo tiene como objetivo explicar el **método de Simpson 1/3** para el cálculo de integrales definidas, desarrollando el concepto teórico, un algoritmo en pseudocódigo de la versión secuencial, y finalmente la versión paralela utilizando **OpenMP**."
   ]
  },
  {
   "cell_type": "markdown",
   "metadata": {},
   "source": [
    "## **1. Aspectos Teóricos del Método de Simpson 1/3**"
   ]
  },
  {
   "cell_type": "markdown",
   "metadata": {},
   "source": [
    "El **método de Simpson 1/3** es una técnica numérica para aproximar integrales definidas de funciones continuas. Se basa en la idea de aproximar el área bajo la curva de una función mediante el uso de parábolas, en lugar de rectángulos (como en la regla del trapecio). El método se aplica dividiendo el intervalo de integración en un número par de subintervalos y ajustando una parábola a cada tres puntos consecutivos.\n",
    "\n",
    "**Fórmula del Método de Simpson 1/3**\n",
    "\n",
    "Dada una función $ f(x) $, la integral definida:\n",
    "\n",
    "$$\n",
    "I = \\int_{a}^{b} f(x) \\, dx\n",
    "$$\n",
    "\n",
    "se aproxima mediante el método de Simpson 1/3 con la siguiente fórmula:\n",
    "\n",
    "$$\n",
    "I \\approx \\frac{h}{3} \\left[ f(a) + 4 \\sum_{i=1, \\text{impar}}^{n-1} f(x_i) + 2 \\sum_{i=2, \\text{par}}^{n-2} f(x_i) + f(b) \\right]\n",
    "$$\n",
    "\n",
    "donde:\n",
    "- $ a $ y $ b $ son los límites de integración.\n",
    "- $ n $ es el número de subintervalos (debe ser par).\n",
    "- $ h = \\frac{b - a}{n} $ es el ancho de cada subintervalo.\n",
    "- $ x_i = a + i \\cdot h $ es el punto de evaluación dentro del intervalo.\n",
    "\n",
    "### **Conceptos Importantes**:\n",
    "1. Los puntos de la función $ f(x) $ se evalúan en $ a $ (límite inferior) y $ b $ (límite superior), así como en puntos impares y pares dentro del intervalo.\n",
    "2. Los términos impares (multiplicados por 4) son los puntos donde la parábola alcanza su máxima altura.\n",
    "3. Los términos pares (multiplicados por 2) corresponden a los puntos intermedios entre las parábolas.\n"
   ]
  },
  {
   "cell_type": "markdown",
   "metadata": {},
   "source": [
    "## **2. Desarrollo del Algoritmo en Pseudocódigo (Versión Secuencial)**"
   ]
  },
  {
   "cell_type": "markdown",
   "metadata": {},
   "source": [
    "**Pseudocódigo Secuencial del Método de Simpson 1/3**\n",
    "\n",
    "```plaintext\n",
    "Entrada: a (límite inferior), b (límite superior), n (número de subintervalos, debe ser par)\n",
    "Salida: Aprox. de la integral I\n",
    "\n",
    "1. Calcular el tamaño del subintervalo:\n",
    "   h = (b - a) / n\n",
    "\n",
    "2. Inicializar las sumas:\n",
    "   sum_odd = 0.0  // Suma de los términos impares\n",
    "   sum_even = 0.0 // Suma de los términos pares\n",
    "\n",
    "3. Calcular los términos impares (índices 1, 3, 5,...):\n",
    "   Para i = 1 hasta n-1 con incremento de 2:\n",
    "       sum_odd += f(a + i * h)\n",
    "\n",
    "4. Calcular los términos pares (índices 2, 4, 6,...):\n",
    "   Para i = 2 hasta n-2 con incremento de 2:\n",
    "       sum_even += f(a + i * h)\n",
    "\n",
    "5. Aplicar la fórmula de Simpson:\n",
    "   I = (h / 3) * (f(a) + 4 * sum_odd + 2 * sum_even + f(b))\n",
    "\n",
    "6. Retornar I\n",
    "```\n",
    "\n",
    "**Descripción del Algoritmo Secuencial:**\n",
    "1. El intervalo $ [a, b] $ se divide en $ n $ subintervalos de igual tamaño $ h $.\n",
    "2. Se calculan por separado las sumas de los términos impares y pares.\n",
    "3. Finalmente, se aplica la fórmula de Simpson para obtener la aproximación de la integral.\n",
    "\n",
    "**Código en C**"
   ]
  },
  {
   "cell_type": "code",
   "execution_count": null,
   "metadata": {
    "vscode": {
     "languageId": "c"
    }
   },
   "outputs": [],
   "source": [
    "#include <stdio.h>\n",
    "#include <math.h>\n",
    "\n",
    "// Definir la función que queremos integrar\n",
    "double f(double x) {\n",
    "    return x * x;  // Ejemplo: f(x) = x^2\n",
    "}\n",
    "\n",
    "// Implementación secuencial del método de Simpson 1/3\n",
    "double simpson_sequential(double a, double b, int n) {\n",
    "    double h = (b - a) / n;\n",
    "    double sum_odd = 0.0, sum_even = 0.0, result = 0.0;\n",
    "\n",
    "    // Calcular términos impares\n",
    "    for (int i = 1; i <= n - 1; i += 2) {\n",
    "        sum_odd += f(a + i * h);\n",
    "    }\n",
    "\n",
    "    // Calcular términos pares\n",
    "    for (int i = 2; i <= n - 2; i += 2) {\n",
    "        sum_even += f(a + i * h);\n",
    "    }\n",
    "\n",
    "    // Aplicar la fórmula de Simpson\n",
    "    result = (h / 3) * (f(a) + 4 * sum_odd + 2 * sum_even + f(b));\n",
    "\n",
    "    return result;\n",
    "}\n",
    "\n",
    "int main() {\n",
    "    double a = 0.0;  // Límite inferior\n",
    "    double b = 1.0;  // Límite superior\n",
    "    int n = 1000000; // Número de subintervalos (debe ser par)\n",
    "\n",
    "    // Medir el tiempo de ejecución\n",
    "    double start_time = omp_get_wtime();\n",
    "    \n",
    "    double result = simpson_sequential(a, b, n);\n",
    "\n",
    "    double end_time = omp_get_wtime();\n",
    "\n",
    "    // Imprimir el resultado y el tiempo de ejecución\n",
    "    printf(\"Resultado de la integral (secuencial): %.10f\\n\", result);\n",
    "    printf(\"Tiempo de ejecución (secuencial): %.6f segundos\\n\", end_time - start_time);\n",
    "\n",
    "    return 0;\n",
    "}"
   ]
  },
  {
   "cell_type": "markdown",
   "metadata": {},
   "source": [
    "## **3. Identificación de Bloques Susceptibles de Paralelización**"
   ]
  },
  {
   "cell_type": "markdown",
   "metadata": {},
   "source": [
    "El cálculo de los términos impares y pares en los pasos 3 y 4 del pseudocódigo secuencial puede realizarse de forma independiente. Cada término es calculado a partir de la evaluación de la función en diferentes puntos del intervalo, por lo que estas evaluaciones no dependen unas de otras. Por lo tanto, **podemos paralelizar los bucles** que calculan estas sumas.\n",
    "\n",
    "**Por qué paralelizar estos bloques**:\n",
    "- Los bucles que suman los términos impares y pares realizan cálculos independientes en cada iteración, lo que los hace ideales para ser distribuidos entre diferentes *threads*.\n",
    "- La operación de suma en paralelo requiere una técnica de sincronización como `reduction` para evitar condiciones de carrera al acumular los resultados.\n"
   ]
  },
  {
   "cell_type": "markdown",
   "metadata": {},
   "source": [
    "## **4. Algoritmo en Pseudocódigo Paralelo con OpenMP**"
   ]
  },
  {
   "cell_type": "markdown",
   "metadata": {},
   "source": [
    "**Pseudocódigo Paralelo del Método de Simpson 1/3**\n",
    "\n",
    "```plaintext\n",
    "Entrada: a (límite inferior), b (límite superior), n (número de subintervalos, debe ser par)\n",
    "Salida: Aprox. de la integral I\n",
    "\n",
    "1. Calcular el tamaño del subintervalo:\n",
    "   h = (b - a) / n\n",
    "\n",
    "2. Inicializar las sumas:\n",
    "   sum_odd = 0.0  // Suma de los términos impares\n",
    "   sum_even = 0.0 // Suma de los términos pares\n",
    "\n",
    "3. Paralelizar el cálculo de los términos impares:\n",
    "   #pragma omp parallel for reduction(+:sum_odd)\n",
    "   Para i = 1 hasta n-1 con incremento de 2:\n",
    "       sum_odd += f(a + i * h)\n",
    "\n",
    "4. Paralelizar el cálculo de los términos pares:\n",
    "   #pragma omp parallel for reduction(+:sum_even)\n",
    "   Para i = 2 hasta n-2 con incremento de 2:\n",
    "       sum_even += f(a + i * h)\n",
    "\n",
    "5. Aplicar la fórmula de Simpson:\n",
    "   I = (h / 3) * (f(a) + 4 * sum_odd + 2 * sum_even + f(b))\n",
    "\n",
    "6. Retornar I\n",
    "```\n",
    "\n",
    "**Explicación del Algoritmo Paralelo**:\n",
    "1. Los bucles que calculan las sumas de los términos impares y pares se paralelizan usando `#pragma omp parallel for` con la cláusula `reduction(+:sum_odd)` y `reduction(+:sum_even)` para acumular los resultados de forma segura entre los *threads*.\n",
    "2. Cada *thread* calcula una parte de la suma, y los resultados parciales se combinan al final de cada bucle."
   ]
  },
  {
   "cell_type": "markdown",
   "metadata": {},
   "source": [
    "## **5. Implementación en C Paralelizada con OpenMP**"
   ]
  },
  {
   "cell_type": "code",
   "execution_count": null,
   "metadata": {
    "vscode": {
     "languageId": "c"
    }
   },
   "outputs": [],
   "source": [
    "#include <stdio.h>\n",
    "#include <omp.h>\n",
    "#include <math.h>\n",
    "\n",
    "// Definir la función que queremos integrar\n",
    "double f(double x) {\n",
    "    return x * x;  // Ejemplo: f(x) = x^2\n",
    "}\n",
    "\n",
    "// Implementación paralela del método de Simpson 1/3\n",
    "double simpson_parallel(double a, double b, int n) {\n",
    "    double h = (b - a) / n;\n",
    "    double sum_odd = 0.0, sum_even = 0.0, result = 0.0;\n",
    "    int i;\n",
    "\n",
    "    // Calcular términos impares en paralelo\n",
    "    #pragma omp parallel for reduction(+:sum_odd)\n",
    "    for (i = 1; i <= n - 1; i += 2) {\n",
    "        sum_odd += f(a + i * h);\n",
    "    }\n",
    "\n",
    "    // Calcular términos pares en paralelo\n",
    "    #pragma omp parallel for reduction(+:sum_even)\n",
    "    for (i = 2; i <= n - 2; i += 2) {\n",
    "        sum_even += f(a + i * h);\n",
    "    }\n",
    "\n",
    "    // Aplicar la fórmula de Simpson\n",
    "    result = (h / 3) * (f(a) + 4 * sum_odd + 2 * sum_even + f(b));\n",
    "\n",
    "    return result;\n",
    "}\n",
    "\n",
    "int main() {\n",
    "    double a = 0.0;  // Límite inferior\n",
    "    double b = 1.0;  // Límite superior\n",
    "    int n = 1000000; // Número de subintervalos (debe ser par)\n",
    "\n",
    "    // Medir el tiempo de ejecución\n",
    "    double start_time = omp_get_wtime();\n",
    "    \n",
    "    double result = simpson_parallel(a, b, n);\n",
    "\n",
    "    double end_time = omp_get_wtime();\n",
    "\n",
    "    // Imprimir el resultado y el tiempo de ejecución\n",
    "    printf(\"Resultado de la integral: %.10f\\n\", result);\n",
    "    printf(\"Tiempo de ejecución: %.6f segundos\\n\", end_time - start_time);\n",
    "\n",
    "    return 0;\n",
    "}"
   ]
  },
  {
   "cell_type": "markdown",
   "metadata": {},
   "source": [
    "**Explicación del Código Paralelo**:\n",
    "1. **Paralelización de los bucles**: Los bucles que calculan las sumas de los términos impares y pares se paralelizan con OpenMP, distribuyendo las iteraciones entre diferentes *threads*.\n",
    "2. **Sincronización con `reduction`**: La cláusula `reduction` se utiliza para garantizar que cada *thread* pueda acumular su resultado parcial sin interferencias con otros *threads*.\n",
    "3. **Medición del tiempo**: Se utiliza `omp_get_wtime()` para medir el tiempo de ejecución del código paralelo."
   ]
  },
  {
   "cell_type": "markdown",
   "metadata": {},
   "source": [
    "# **Ejercicios**"
   ]
  },
  {
   "cell_type": "markdown",
   "metadata": {},
   "source": [
    "Dada la función:\n",
    "\n",
    "$$\n",
    "f(x) = e^{-x^{2}}\n",
    "$$\n",
    "\n",
    "calcular la integral de esta función en el intervalo $[-1, 1]$ utilizando los siguientes métodos de integración numérica, implementando tanto versiones secuenciales como paralelas de los algoritmos:\n",
    "\n",
    "- Método de Simpson 1/3 de aplicación simple\n",
    "- Método de Simpson 3/8 de aplicación simple\n",
    "- Método de Simpson 1/3 de aplicación múltiple\n",
    "- Método de Simpson 3/8 de aplicación múltiple\n",
    "\n",
    "Mide los tiempos de ejecución de cada algoritmo en ambas versiones y calcula el **speedup** obtenido con la paralelización."
   ]
  }
 ],
 "metadata": {
  "language_info": {
   "name": "python"
  }
 },
 "nbformat": 4,
 "nbformat_minor": 2
}
