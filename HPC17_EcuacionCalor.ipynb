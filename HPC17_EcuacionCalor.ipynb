{
 "cells": [
  {
   "cell_type": "markdown",
   "metadata": {},
   "source": [
    "<h1 align=\"center\">Computación de Alto Desempeño</h1>\n",
    "<h1 align=\"center\">Ecuación de Calor 1D</h1>\n",
    "<h1 align=\"center\">2024</h1>\n",
    "<h1 align=\"center\">MEDELLÍN - COLOMBIA </h1>"
   ]
  },
  {
   "cell_type": "markdown",
   "metadata": {},
   "source": [
    "***\n",
    "|[![Outlook](https://img.shields.io/badge/Microsoft_Outlook-0078D4?style=plastic&logo=microsoft-outlook&logoColor=white)](mailto:calvarezh@udemedellin.edu.co)||[![Open In Colab](https://colab.research.google.com/assets/colab-badge.svg)](https://colab.research.google.com/github/carlosalvarezh/HPC/blob/main/HPC17_EcuacionCalor.ipynb)\n",
    "|-:|:-|--:|\n",
    "|[![LinkedIn](https://img.shields.io/badge/linkedin-%230077B5.svg?style=plastic&logo=linkedin&logoColor=white)](https://www.linkedin.com/in/carlosalvarez5/)|[![@alvarezhenao](https://img.shields.io/twitter/url/https/twitter.com/alvarezhenao.svg?style=social&label=Follow%20%40alvarezhenao)](https://twitter.com/alvarezhenao)|[![@carlosalvarezh](https://img.shields.io/badge/github-%23121011.svg?style=plastic&logo=github&logoColor=white)](https://github.com/carlosalvarezh)|\n",
    "\n",
    "<table>\n",
    " <tr align=left><td><img align=left src=\"https://github.com/carlosalvarezh/Curso_CEC_EAFIT/blob/main/images/CCLogoColorPop1.gif?raw=true\" width=\"25\">\n",
    " <td>Text provided under a Creative Commons Attribution license, CC-BY. All code is made available under the FSF-approved MIT license.(c) Carlos Alberto Alvarez Henao</td>\n",
    "</table>\n",
    "\n",
    "***"
   ]
  },
  {
   "cell_type": "markdown",
   "metadata": {},
   "source": [
    "# **Resolviendo la Ecuación Unidimensional del Calor en C con OpenMP**"
   ]
  },
  {
   "cell_type": "markdown",
   "metadata": {},
   "source": [
    "### **Introducción**"
   ]
  },
  {
   "cell_type": "markdown",
   "metadata": {},
   "source": [
    "El estudio de cómo el calor se distribuye a lo largo de un material con el paso del tiempo es un problema fundamental en diversas disciplinas de la ciencia y la ingeniería, como la termodinámica, la ciencia de materiales y la física. Este fenómeno puede modelarse mediante la **ecuación del calor**, una ecuación diferencial parcial (EDP) que describe la variación de temperatura en un medio a medida que el calor se transfiere dentro de él.\n",
    "\n",
    "En este proyecto, vamos a enfocarnos en resolver la **ecuación del calor en una dimensión** (1D), que simula cómo el calor se propaga en una barra o alambre a lo largo de su longitud. Para ello, utilizaremos el **método explícito de diferencias finitas**, que discretiza tanto el espacio como el tiempo, permitiendo obtener soluciones numéricas aproximadas. Este enfoque es adecuado para estudiantes, ya que permite abordar de manera intuitiva el proceso de discretización y solución numérica de ecuaciones diferenciales.\n",
    "\n",
    "Adicionalmente, aprovecharemos la capacidad de **paralelización con OpenMP** en C, lo que permitirá optimizar la velocidad de cálculo en simulaciones de gran escala, dividiendo el trabajo entre múltiples núcleos de procesamiento. Esto es crucial para resolver problemas numéricos de manera eficiente en escenarios con grandes cantidades de datos o con requisitos de tiempo de ejecución estrictos.\n",
    "\n",
    "El objetivo de este ejercicio es que los estudiantes puedan implementar una solución eficiente en C para este problema clásico, comprendiendo no solo los conceptos matemáticos detrás de la ecuación del calor, sino también las estrategias de optimización y paralelización que se pueden aplicar en la computación de alto rendimiento."
   ]
  },
  {
   "cell_type": "markdown",
   "metadata": {},
   "source": [
    "### **Contexto histórico**"
   ]
  },
  {
   "cell_type": "markdown",
   "metadata": {},
   "source": [
    "La ecuación del calor fue formulada por primera vez en 1822 por el matemático francés **Jean Baptiste Joseph Fourier**, en su obra *\"Théorie analytique de la chaleur\"* (Teoría Analítica del Calor). El trabajo de Fourier no solo estableció las bases para el estudio de la transferencia de calor, sino que también dio origen a las **series de Fourier**, una herramienta matemática fundamental utilizada para descomponer funciones complejas en componentes sinusoidales más simples. Este concepto es esencial para el análisis y la solución de muchos problemas en física e ingeniería."
   ]
  },
  {
   "cell_type": "markdown",
   "metadata": {},
   "source": [
    "## **Planteamiento del Problema y solución analítica**"
   ]
  },
  {
   "cell_type": "markdown",
   "metadata": {},
   "source": [
    "La **ecuación del calor en una dimensión** describe cómo la temperatura cambia a lo largo de una barra conforme el calor se dispersa en ella. Esta ecuación se expresa como:\n",
    "\n",
    "$$\n",
    "\\frac{\\partial u(x,t)}{\\partial t} = \\alpha \\frac{\\partial^2 u(x,t)}{\\partial x^2}\n",
    "$$\n",
    "\n",
    "donde:\n",
    "- $ u(x,t) $ es la temperatura en la posición $ x $ y tiempo $ t $,\n",
    "- $ \\alpha $ es la **difusividad térmica**, que mide qué tan rápido se propaga el calor en el material.\n",
    "\n",
    "**Condiciones de Contorno**\n",
    "\n",
    "Consideremos una barra de longitud $ L $ donde los extremos de la barra están a **temperatura cero** en todo momento. Esto significa que el calor no puede acumularse en los extremos, es decir:\n",
    "\n",
    "$$\n",
    "u(0,t) = u(L,t) = 0 \\quad \\text{para todo} \\ t \\geq 0\n",
    "$$\n",
    "\n",
    "**Condición Inicial**\n",
    "\n",
    "Para la temperatura inicial en la barra, vamos a suponer una distribución simple: \n",
    "\n",
    "$$\n",
    "u(x, 0) = \\sin\\left(\\frac{\\pi x}{L}\\right)\n",
    "$$\n",
    "\n",
    "Esto significa que la temperatura inicial sigue una forma de onda sinusoidal a lo largo de la barra.\n",
    "\n",
    "**Solución Cerrada**\n",
    "\n",
    "Para este caso particular, donde la condición inicial es una función sinusoidal y los extremos de la barra están fijos en cero, la **solución analítica** de la ecuación del calor es:\n",
    "\n",
    "$$\n",
    "u(x,t) = \\sin\\left(\\frac{\\pi x}{L}\\right) e^{-\\frac{\\pi^2 \\alpha}{L^2} t}\n",
    "$$\n",
    "\n",
    "**Explicación:**\n",
    "\n",
    "1. **Parte espacial**: La función $ \\sin\\left(\\frac{\\pi x}{L}\\right) $ describe cómo la temperatura está distribuida a lo largo de la barra en el inicio. En los extremos ($ x = 0 $ y $ x = L $), la función es cero, cumpliendo con las condiciones de contorno.\n",
    "\n",
    "2. **Parte temporal**: El término $ e^{-\\frac{\\pi^2 \\alpha}{L^2} t} $ muestra cómo la temperatura en cada punto de la barra disminuye con el tiempo. A medida que el tiempo pasa, este factor exponencial disminuye, haciendo que la temperatura se reduzca gradualmente hasta que la barra se enfría completamente.\n"
   ]
  },
  {
   "cell_type": "markdown",
   "metadata": {},
   "source": [
    "## **Solución numérica**"
   ]
  },
  {
   "cell_type": "markdown",
   "metadata": {},
   "source": [
    "La **ecuación del calor** es una ecuación diferencial parcial (EDP) que modela cómo el calor se distribuye en un medio a lo largo del tiempo. En una dimensión, esta ecuación describe cómo la temperatura en cada punto de un material cambia debido a la transferencia de calor con sus puntos vecinos.\n",
    "\n",
    "En su forma más básica, la ecuación del calor en una dimensión se expresa como:\n",
    "\n",
    "$$\n",
    "\\frac{\\partial u}{\\partial t} = \\alpha \\frac{\\partial^2 u}{\\partial x^2}\n",
    "$$\n",
    "\n",
    "Donde:\n",
    "- $ u(x,t) $ es la temperatura en la posición $ x $ y el tiempo $ t $,\n",
    "- $ \\alpha $ es la **difusividad térmica** del material, una constante positiva que mide la rapidez con la que el calor se dispersa en el material.\n",
    "\n",
    "Esta ecuación permite predecir cómo varía la temperatura a lo largo de un cuerpo cuando está sometido a un proceso de transferencia de calor. Tiene aplicaciones clave en múltiples áreas como la ingeniería térmica, la física de materiales e incluso en la simulación de entornos virtuales y videojuegos, donde la correcta simulación del calor es fundamental para representar fenómenos físicos de manera realista.\n",
    "\n",
    "En este ejercicio, nuestro objetivo es resolver esta ecuación de manera numérica utilizando el **Método de Diferencias Finitas (FDM)** en el lenguaje C, optimizando el cálculo mediante paralelización con **OpenMP** para mejorar el rendimiento en simulaciones de gran escala."
   ]
  },
  {
   "cell_type": "markdown",
   "metadata": {},
   "source": [
    "#### **Conceptos básicos del Método de Diferencias Finitas**"
   ]
  },
  {
   "cell_type": "markdown",
   "metadata": {},
   "source": [
    "El **Método de Diferencias Finitas (FDM)** es una técnica numérica utilizada para aproximar las soluciones de ecuaciones diferenciales parciales como la ecuación del calor. La idea principal detrás del FDM es discretizar el dominio continuo del problema (en este caso, la barra o el material donde se transfiere el calor) en puntos discretos. Así, en lugar de resolver directamente la ecuación con derivadas continuas, aproximamos las derivadas mediante diferencias entre los valores en esos puntos."
   ]
  },
  {
   "cell_type": "markdown",
   "metadata": {},
   "source": [
    "#### **Discretización Espacial y Temporal**"
   ]
  },
  {
   "cell_type": "markdown",
   "metadata": {},
   "source": [
    "En la ecuación del calor, necesitamos aproximar tanto las derivadas espaciales como las temporales. A continuación, se muestra cómo se discretizan estas derivadas:\n",
    "\n",
    "1. **Derivada espacial**: La segunda derivada con respecto a $ x $ se puede aproximar usando diferencias centrales entre puntos vecinos. Matemáticamente, esto se representa como:\n",
    "\n",
    "$$\n",
    "\\frac{\\partial^2 u}{\\partial x^2} \\approx \\frac{u_{i+1} - 2u_i + u_{i-1}}{\\Delta x^2}\n",
    "$$\n",
    "\n",
    "Donde $ \\Delta x $ es el tamaño del paso espacial, $ u_{i+1} $, $ u_i $ y $ u_{i-1} $ son los valores de la temperatura en los puntos $ i+1 $, $ i $ e $ i-1 $, respectivamente.\n",
    "\n",
    "2. **Derivada temporal**: La derivada con respecto al tiempo se aproxima utilizando diferencias hacia adelante:\n",
    "\n",
    "$$\n",
    "\\frac{\\partial u}{\\partial t} \\approx \\frac{u^{n+1}_i - u^n_i}{\\Delta t}\n",
    "$$\n",
    "\n",
    "Donde $ \\Delta t $ es el tamaño del paso de tiempo, $ u^{n+1}_i $ es la temperatura en el punto $ i $ en el tiempo $ t_{n+1} $, y $ u^n_i $ es la temperatura en el tiempo $ t_n $."
   ]
  },
  {
   "cell_type": "markdown",
   "metadata": {},
   "source": [
    "#### **Ecuación de Actualización**"
   ]
  },
  {
   "cell_type": "markdown",
   "metadata": {},
   "source": [
    "Al combinar estas dos aproximaciones, obtenemos la **ecuación de actualización explícita** para la ecuación del calor:\n",
    "\n",
    "$$\n",
    "u^{n+1}_i = u^n_i + \\alpha \\frac{\\Delta t}{\\Delta x^2} \\left( u^n_{i+1} - 2u^n_i + u^n_{i-1} \\right)\n",
    "$$\n",
    "\n",
    "Esta ecuación nos permite calcular la temperatura en un punto $ i $ en el siguiente paso de tiempo $ n+1 $, en función de las temperaturas actuales de los puntos vecinos ($ i+1 $ e $ i-1 $) y la temperatura en el punto $ i $ en el tiempo presente $ n $.\n",
    "\n",
    "**Clave para los estudiantes**: La implementación del Método de Diferencias Finitas se basa en aplicar iterativamente esta ecuación para todos los puntos espaciales de interés, actualizando la temperatura en cada paso temporal."
   ]
  },
  {
   "cell_type": "markdown",
   "metadata": {},
   "source": [
    "### **Estabilidad Numérica**"
   ]
  },
  {
   "cell_type": "markdown",
   "metadata": {},
   "source": [
    "Una de las principales consideraciones al utilizar el método explícito de diferencias finitas es la **estabilidad numérica**. Para que la simulación sea precisa y no diverja, es crucial que los parámetros de discretización (es decir, los valores de $ \\Delta t $ y $ \\Delta x $) satisfagan una condición de estabilidad.\n",
    "\n",
    "La **condición de estabilidad** para el método explícito de diferencias finitas en la ecuación del calor se expresa como:\n",
    "\n",
    "$$\n",
    "\\text{Coef} = \\frac{\\alpha \\Delta t}{\\Delta x^2} \\leq \\frac{1}{2}\n",
    "$$\n",
    "\n",
    "Esta fórmula define una relación directa entre la difusividad térmica $ \\alpha $, el tamaño del paso de tiempo $ \\Delta t $ y el tamaño del paso espacial $ \\Delta x $. Si el valor de $ \\text{Coef} $ es mayor que 0.5, la solución numérica se vuelve inestable, generando oscilaciones erráticas y resultados incorrectos."
   ]
  },
  {
   "cell_type": "markdown",
   "metadata": {},
   "source": [
    "## **Enunciado del Trabajo Escrito**"
   ]
  },
  {
   "cell_type": "markdown",
   "metadata": {},
   "source": [
    "#### **Objetivo:**"
   ]
  },
  {
   "cell_type": "markdown",
   "metadata": {},
   "source": [
    "El objetivo de este trabajo es que los estudiantes desarrollen un código en **C** que resuelva numéricamente la ecuación de calor en una dimensión utilizando el **Método de Diferencias Finitas**. Además, el código deberá estar paralelizado utilizando **OpenMP** para mejorar el rendimiento en términos de tiempo de ejecución. Los estudiantes deberán comparar la solución numérica con la solución analítica para diferentes tamaños de $ h $ (paso espacial), y reportar las métricas de rendimiento del código utilizando varias configuraciones de hilos."
   ]
  },
  {
   "cell_type": "markdown",
   "metadata": {},
   "source": [
    "#### **Tareas a realizar:**"
   ]
  },
  {
   "cell_type": "markdown",
   "metadata": {},
   "source": [
    "1. **Implementación numérica con paralelización:**\n",
    "   - Desarrollar un programa en **C** que resuelva la ecuación de calor en una dimensión utilizando el **Método de Diferencias Finitas (FDM)**.\n",
    "   - Utilizar **OpenMP** para paralelizar el cálculo en la etapa de iteración temporal y espacial.\n",
    "   - Asegurarse de que la paralelización sea eficiente y que se distribuya el trabajo de manera adecuada entre los hilos disponibles.\n",
    "\n",
    "2. **Comparación de la solución numérica y la solución analítica:**\n",
    "   - Comparar los resultados numéricos obtenidos con la **solución analítica** de la ecuación del calor para una barra de longitud $ L $ con extremos a temperatura cero y una condición inicial sinusoidal:\n",
    "     $$\n",
    "     u(x,t) = \\sin\\left(\\frac{\\pi x}{L}\\right) e^{-\\frac{\\pi^2 \\alpha}{L^2} t}\n",
    "     $$\n",
    "   - Realizar la comparación para al menos **tres valores diferentes de $ h $** (por ejemplo, $ h = 0.1 $, $ h = 0.05 $, $ h = 0.01 $) y medir el error numérico con respecto a la solución analítica.\n",
    "\n",
    "3. **Métricas de rendimiento:**\n",
    "   - **Medir el tiempo de ejecución** del programa para diferentes configuraciones de hilos utilizando OpenMP (por ejemplo, 1 hilo, 2 hilos, 4 hilos, 8 hilos).\n",
    "   - Reportar el **speedup** y la **eficiencia** obtenidos al variar el número de hilos:\n",
    "     $$\n",
    "     \\text{Speedup} = \\frac{\\text{Tiempo con un hilo}}{\\text{Tiempo con $ n $ hilos}}\n",
    "     $$\n",
    "     $$\n",
    "     \\text{Eficiencia} = \\frac{\\text{Speedup}}{\\text{Número de hilos}}\n",
    "     $$\n",
    "   - Evaluar cómo cambia el rendimiento y la precisión cuando se varían los tamaños de $ h $.\n",
    "\n",
    "4. **Visualización de los resultados:**\n",
    "   - Crear gráficos que comparen la **solución numérica** con la **solución analítica** para los diferentes valores de $ h $ utilizados.\n",
    "   - Presentar gráficas de **tiempo de ejecución**, **speedup** y **eficiencia** para los diferentes números de hilos probados.\n",
    "   - Mostrar visualmente el error entre la solución numérica y la solución analítica en función del paso espacial $ h $."
   ]
  },
  {
   "cell_type": "markdown",
   "metadata": {},
   "source": [
    "#### **Contenido del Informe:**"
   ]
  },
  {
   "cell_type": "markdown",
   "metadata": {},
   "source": [
    "El informe escrito deberá incluir las siguientes secciones:\n",
    "\n",
    "1. **Introducción**:\n",
    "   - Explicar brevemente la ecuación del calor en 1D y la relevancia del problema.\n",
    "   - Describir el objetivo del trabajo, destacando la implementación del método de diferencias finitas y la paralelización con OpenMP.\n",
    "\n",
    "2. **Implementación del código**:\n",
    "   - Explicar detalladamente el algoritmo utilizado para resolver la ecuación del calor numéricamente.\n",
    "   - Describir cómo se realizó la paralelización con OpenMP, indicando las secciones del código que fueron paralelizadas y justificando su elección.\n",
    "\n",
    "3. **Resultados numéricos**:\n",
    "   - Comparar los resultados numéricos con la solución analítica.\n",
    "   - Incluir gráficos que muestren la solución numérica y la analítica en diferentes puntos temporales para los distintos valores de $ h $.\n",
    "   - Mostrar gráficamente la evolución del error entre ambas soluciones a lo largo del tiempo.\n",
    "\n",
    "4. **Análisis del rendimiento**:\n",
    "   - Presentar una tabla con los **tiempos de ejecución** para diferentes números de hilos.\n",
    "   - Incluir gráficos del **speedup** y la **eficiencia** conforme se incrementa el número de hilos.\n",
    "   - Discutir las limitaciones observadas y las mejoras logradas mediante la paralelización.\n",
    "\n",
    "5. **Conclusiones**:\n",
    "   - Resumir los principales hallazgos del trabajo en términos de precisión numérica y rendimiento.\n",
    "   - Reflexionar sobre las ventajas y desventajas del uso de OpenMP para la paralelización de este tipo de problemas.\n",
    "   - Proponer posibles mejoras en el código o enfoques alternativos para incrementar la eficiencia o precisión.\n"
   ]
  },
  {
   "cell_type": "markdown",
   "metadata": {},
   "source": [
    "### **Recomendaciones:**"
   ]
  },
  {
   "cell_type": "markdown",
   "metadata": {},
   "source": [
    "- Utiliza **`omp_get_wtime()`** para medir el tiempo de ejecución de las secciones paralelizadas del código.\n",
    "- Asegúrate de probar tu código en diferentes configuraciones de hilos y tamaños de $ h $ para obtener resultados variados.\n",
    "- Compara tu solución numérica con la analítica utilizando **normas de error**, por ejemplo, el **error absoluto** o el **error relativo**.\n",
    "- La claridad y calidad de las gráficas y el análisis de resultados será un factor importante en la evaluación."
   ]
  },
  {
   "cell_type": "markdown",
   "metadata": {},
   "source": [
    "### **Criterios de Evaluación:**"
   ]
  },
  {
   "cell_type": "markdown",
   "metadata": {},
   "source": [
    "- **Correcta implementación** del algoritmo numérico y su paralelización con OpenMP.\n",
    "- **Precisión** en la comparación entre la solución numérica y la analítica.\n",
    "- **Análisis detallado** de las métricas de rendimiento, incluyendo tiempos de ejecución, speedup y eficiencia.\n",
    "- **Calidad del informe**, tanto en redacción como en la presentación gráfica de resultados."
   ]
  },
  {
   "cell_type": "markdown",
   "metadata": {},
   "source": []
  }
 ],
 "metadata": {
  "language_info": {
   "name": "python"
  }
 },
 "nbformat": 4,
 "nbformat_minor": 2
}
