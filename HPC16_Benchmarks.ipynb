{
 "cells": [
  {
   "cell_type": "markdown",
   "metadata": {},
   "source": [
    "<h1 align=\"center\">Computación de Alto Desempeño</h1>\n",
    "<h1 align=\"center\">Benchmarks</h1>\n",
    "<h1 align=\"center\">2024</h1>\n",
    "<h1 align=\"center\">MEDELLÍN - COLOMBIA </h1>"
   ]
  },
  {
   "cell_type": "markdown",
   "metadata": {},
   "source": [
    "***\n",
    "|[![Outlook](https://img.shields.io/badge/Microsoft_Outlook-0078D4?style=plastic&logo=microsoft-outlook&logoColor=white)](mailto:calvarezh@udemedellin.edu.co)||[![Open In Colab](https://colab.research.google.com/assets/colab-badge.svg)](https://colab.research.google.com/github/carlosalvarezh/HPC/blob/main/HPC16_Benchmarks.ipynb)\n",
    "|-:|:-|--:|\n",
    "|[![LinkedIn](https://img.shields.io/badge/linkedin-%230077B5.svg?style=plastic&logo=linkedin&logoColor=white)](https://www.linkedin.com/in/carlosalvarez5/)|[![@alvarezhenao](https://img.shields.io/twitter/url/https/twitter.com/alvarezhenao.svg?style=social&label=Follow%20%40alvarezhenao)](https://twitter.com/alvarezhenao)|[![@carlosalvarezh](https://img.shields.io/badge/github-%23121011.svg?style=plastic&logo=github&logoColor=white)](https://github.com/carlosalvarezh)|\n",
    "\n",
    "<table>\n",
    " <tr align=left><td><img align=left src=\"https://github.com/carlosalvarezh/Curso_CEC_EAFIT/blob/main/images/CCLogoColorPop1.gif?raw=true\" width=\"25\">\n",
    " <td>Text provided under a Creative Commons Attribution license, CC-BY. All code is made available under the FSF-approved MIT license.(c) Carlos Alberto Alvarez Henao</td>\n",
    "</table>\n",
    "\n",
    "***"
   ]
  },
  {
   "cell_type": "markdown",
   "metadata": {},
   "source": [
    "## **Introducción**"
   ]
  },
  {
   "cell_type": "markdown",
   "metadata": {},
   "source": [
    "Los *benchmarks* son pruebas estandarizadas diseñadas para evaluar y comparar el rendimiento de sistemas de cómputo, especialmente en el contexto de la computación de alto rendimiento (HPC). En los sistemas a gran escala, estas herramientas son esenciales para medir el comportamiento de una máquina cuando enfrenta cargas intensivas de datos y procesamiento numérico. Los *benchmarks* proporcionan métricas comparables, lo que ayuda a científicos e ingenieros a determinar si un sistema es adecuado para resolver problemas específicos en áreas como la ciencia computacional, simulaciones y análisis de grandes volúmenes de datos. \n",
    "\n",
    "Medir el rendimiento de un sistema permite tomar decisiones informadas sobre su capacidad para abordar desafíos científicos o industriales a gran escala. En aplicaciones como simulaciones complejas o análisis científicos, es crucial contar con métricas de rendimiento confiables que se puedan replicar y comparar entre distintos sistemas.\n",
    "\n",
    "Un aspecto clave que estos *benchmarks* evalúan es cómo el sistema gestiona operaciones de cálculo intensivo, optimización de recursos y transferencia de datos. En este contexto, la eficiencia numérica y el uso adecuado de la memoria desempeñan un papel crítico. Para lograr un rendimiento óptimo, se emplean bibliotecas numéricas especializadas que permiten realizar estas operaciones complejas de manera eficiente. "
   ]
  },
  {
   "cell_type": "markdown",
   "metadata": {},
   "source": [
    "### **¿Por qué medir los sistemas?**"
   ]
  },
  {
   "cell_type": "markdown",
   "metadata": {},
   "source": [
    "Las mediciones de rendimiento no solo son útiles para clasificar sistemas (por ejemplo, en listas como el *Top500*), sino que permiten evaluar si un sistema es adecuado para resolver un problema específico. Los benchmarks permiten a los usuarios predecir cómo se comportará el sistema bajo distintas cargas de trabajo, determinar si el tamaño del sistema es adecuado, y proporcionar una base para la comparación con otros sistemas antes de realizar una adquisición o actualización."
   ]
  },
  {
   "cell_type": "markdown",
   "metadata": {},
   "source": [
    "## **¿Qué es un Benchmark?**"
   ]
  },
  {
   "cell_type": "markdown",
   "metadata": {},
   "source": [
    "Un *benchmark* es una prueba estandarizada que mide el rendimiento de un sistema de cómputo bajo condiciones específicas, generalmente relacionadas con el uso intensivo de CPU, memoria y comunicaciones en entornos paralelos. En la computación de alto rendimiento (HPC), los *benchmarks* se utilizan para evaluar aspectos clave del sistema, como la capacidad de procesamiento, la eficiencia de la memoria y el rendimiento en las comunicaciones. Estas pruebas abarcan una amplia variedad de tareas esenciales, incluyendo la resolución de sistemas de ecuaciones, operaciones con matrices, transformadas de Fourier y muchas otras operaciones numéricas y de procesamiento intensivo que son comunes en aplicaciones científicas y técnicas."
   ]
  },
  {
   "cell_type": "markdown",
   "metadata": {},
   "source": [
    "### **Ejemplos de Benchmarks Populares**"
   ]
  },
  {
   "cell_type": "markdown",
   "metadata": {},
   "source": [
    "#### 1. **[HPLinpack](https://netlib.org/benchmark/hpl/)**\n",
    "\n",
    "Es el *benchmark* más utilizado para clasificar sistemas en el *[Top500](https://top500.org/)*, una lista de las supercomputadoras más rápidas del mundo. HPLinpack mide la capacidad de un sistema para resolver un sistema de ecuaciones lineales densas utilizando eliminación gaussiana.\n",
    "\n",
    "- **Operación medida**: Resolución de un sistema de ecuaciones lineales con matrices densas.\n",
    "- **Tiempo estimado**: Aproximadamente $ \\frac{2n^3}{3} $ operaciones en punto flotante, donde $ n $ es el tamaño de la matriz.\n",
    "- **Memoria utilizada**: Aproximadamente $ n^2 $.\n",
    "- **Limitaciones**: Aunque este *benchmark* es representativo para algunos problemas, la mayoría de los sistemas grandes se enfrentan a matrices dispersas, que no son adecuadamente modeladas por HPLinpack. Este *benchmark* no refleja completamente el rendimiento para aplicaciones con matrices dispersas.\n",
    "\n",
    "#### 2. **[STREAM](https://www.cs.virginia.edu/stream/)**\n",
    "El *benchmark* STREAM se utiliza para medir el **ancho de banda de memoria sostenible** de un sistema. En sistemas HPC, la capacidad para mover grandes cantidades de datos entre la memoria y la CPU es un factor determinante del rendimiento general, especialmente en aplicaciones científicas que requieren el procesamiento de grandes volúmenes de datos.\n",
    "\n",
    "- **Operaciones medidas**: STREAM mide cuatro operaciones básicas:\n",
    "  - **COPY**: `x(i) = y(i)`\n",
    "  - **SCALE**: `x(i) = a * y(i)`\n",
    "  - **ADD**: `x(i) = y(i) + z(i)`\n",
    "  - **TRIAD**: `x(i) = y(i) + a * z(i)`\n",
    "- **Uso de datos**: Se utilizan arreglos extremadamente grandes para que los datos no quepan en la caché de la CPU, obligando al sistema a acceder a la memoria principal.\n",
    "- **Importancia**: Estas operaciones representan patrones de acceso típicos en muchas aplicaciones de simulación y procesamiento de datos científicos.\n",
    "\n",
    "#### 3. **[HPC Challenge](https://hpcchallenge.org/hpcc/)**\n",
    "Este *benchmark* busca ampliar el alcance de HPLinpack al incluir un conjunto más diverso de pruebas que evalúan múltiples aspectos del rendimiento de un sistema. Las pruebas incluidas son:\n",
    "\n",
    "- **HPLinpack**: Para medir el rendimiento de las operaciones de punto flotante.\n",
    "- **DGEMM**: Multiplicación de matrices densas.\n",
    "- **STREAM**: Medición del ancho de banda de memoria.\n",
    "- **PTRANS**: Transposición de matrices paralelas.\n",
    "- **RandomAccess**: Evaluación del acceso a memoria aleatorio, permitiendo condiciones de carrera.\n",
    "- **FFT**: Transformada rápida de Fourier en 1D.\n",
    "- **Comunicación**: Medición del ancho de banda y latencia de las comunicaciones entre nodos.\n",
    "\n",
    "#### 4. **[Graph 500](https://graph500.org/)**\n",
    "Diseñado para medir el rendimiento en problemas de grafos, Graph 500 es un *benchmark* que evalúa la capacidad de los sistemas para realizar operaciones relacionadas con grafos, tales como búsquedas en amplitud (BFS). Estos problemas son relevantes para áreas como la inteligencia artificial, el análisis de redes sociales y el procesamiento de grandes conjuntos de datos.\n",
    "\n",
    "- **Operación medida**: Búsqueda en amplitud (BFS).\n",
    "- **Implementaciones de referencia**: OpenMP y MPI.\n",
    "- **Importancia**: Representa una métrica alternativa para evaluar sistemas que no se ajustan bien a HPLinpack.\n",
    "\n",
    "#### 5. **[NAS Parallel Benchmarks (NPB)](https://www.nas.nasa.gov/index.html)**\n",
    "Estos *benchmarks* fueron diseñados por la NASA para evaluar el rendimiento en aplicaciones paralelas. Incluyen una serie de problemas derivados de aplicaciones científicas reales y miden la eficiencia en varios tipos de operaciones.\n",
    "\n",
    "- **Pruebas principales**:\n",
    "  - **Integer Sort**: Ordenación de enteros.\n",
    "  - **Conjugate Gradient**: Método iterativo para resolver sistemas de ecuaciones lineales dispersas.\n",
    "  - **Multigrid**: Método numérico utilizado para resolver ecuaciones diferenciales.\n",
    "  - **3D FFT**: Transformada rápida de Fourier en 3D."
   ]
  },
  {
   "cell_type": "markdown",
   "metadata": {},
   "source": [
    "## **Bibliotecas Numéricas y Algoritmos Eficientes**"
   ]
  },
  {
   "cell_type": "markdown",
   "metadata": {},
   "source": [
    "Los *benchmarks* evalúan cómo los sistemas manejan operaciones de cómputo intensivo, y la clave para obtener buenos resultados está en la eficiencia de las bibliotecas numéricas subyacentes. Aquí es donde entra en juego la importancia de plataformas como **[Netlib](https://netlib.org/)**, que proporciona bibliotecas altamente optimizadas para operaciones numéricas esenciales."
   ]
  },
  {
   "cell_type": "markdown",
   "metadata": {},
   "source": [
    "### **Algunas Bibliotecas Clave en HPC**"
   ]
  },
  {
   "cell_type": "markdown",
   "metadata": {},
   "source": [
    "#### **[LAPACK (Linear Algebra PACKage)](https://www.netlib.org/lapack/index.html)**\n",
    "LAPACK es una de las bibliotecas más utilizadas para resolver problemas de álgebra lineal, como la descomposición de matrices y la resolución de sistemas de ecuaciones lineales. Las rutinas de LAPACK son fundamentales para muchas de las operaciones evaluadas en *benchmarks* como HPLinpack y HPC Challenge.\n",
    "\n",
    "#### **[BLAS (Basic Linear Algebra Subprograms)](https://www.netlib.org/blas/)**\n",
    "BLAS es otra biblioteca fundamental, que proporciona subrutinas para realizar operaciones básicas de álgebra lineal, como multiplicaciones de matrices y operaciones con vectores. Al ser tan central para la computación numérica, BLAS se utiliza en prácticamente todos los *benchmarks* de HPC que evalúan operaciones en punto flotante.\n",
    "\n",
    "#### **[FFTW (Fast Fourier Transform in the West)](https://www.fftw.org/)**\n",
    "FFTW es la biblioteca estándar para calcular la transformada rápida de Fourier, una operación crítica en el procesamiento de señales y en simulaciones físicas. Las pruebas que involucran FFT, como las incluidas en HPC Challenge, dependen de implementaciones eficientes como FFTW para obtener resultados precisos y rápidos."
   ]
  },
  {
   "cell_type": "markdown",
   "metadata": {},
   "source": [
    "## **Optimización y Rendimiento en HPC**"
   ]
  },
  {
   "cell_type": "markdown",
   "metadata": {},
   "source": [
    "Los resultados de los *benchmarks* no solo dependen del hardware del sistema, sino también de cómo están optimizados los algoritmos y las bibliotecas numéricas que se utilizan. Un sistema puede mejorar significativamente su rendimiento si las bibliotecas numéricas están ajustadas para aprovechar al máximo las capacidades del hardware, como el paralelismo, la jerarquía de memoria y el manejo eficiente de datos."
   ]
  },
  {
   "cell_type": "markdown",
   "metadata": {},
   "source": [
    "### **Estrategias de Optimización**"
   ]
  },
  {
   "cell_type": "markdown",
   "metadata": {},
   "source": [
    "1. **Optimización para Caché**: En sistemas HPC, la memoria caché es esencial para reducir la latencia de acceso a los datos. Las bibliotecas como BLAS y LAPACK están diseñadas para aprovechar la memoria caché y evitar accesos innecesarios a la memoria principal.\n",
    "\n",
    "2. **Paralelización**: Utilizar algoritmos paralelos para dividir el trabajo entre varios núcleos o nodos es esencial para maximizar el rendimiento. Bibliotecas como **ScaLAPACK** permiten realizar operaciones distribuidas en sistemas paralelos.\n",
    "\n",
    "3. **Optimización para Arquitecturas Multinúcleo**: Muchas de las bibliotecas numéricas modernas están diseñadas para aprovechar arquitecturas multinúcleo, donde se distribuyen las operaciones entre varios procesadores para reducir el tiempo de cómputo.\n"
   ]
  },
  {
   "cell_type": "markdown",
   "metadata": {},
   "source": [
    "## **Conclusión**"
   ]
  },
  {
   "cell_type": "markdown",
   "metadata": {},
   "source": [
    "\n",
    "Los *benchmarks* en HPC proporcionan una visión crítica del rendimiento de los sistemas de cómputo a gran escala, evaluando su capacidad para manejar operaciones numéricas intensivas, comunicaciones paralelas y grandes volúmenes de datos. Bibliotecas como las proporcionadas por Netlib, tales como LAPACK, BLAS y FFTW, juegan un papel crucial en asegurar que estas operaciones se realicen de manera eficiente, aprovechando al máximo las capacidades del hardware.\n",
    "\n",
    "La medición de rendimiento a través de *benchmarks* no solo permite comparar sistemas, sino que también revela oportunidades de optimización que son esenciales para mejorar la eficiencia de las aplicaciones científicas y de simulación que impulsan la investigación y el desarrollo en el campo de la computación de alto rendimiento."
   ]
  }
 ],
 "metadata": {
  "language_info": {
   "name": "python"
  }
 },
 "nbformat": 4,
 "nbformat_minor": 2
}
